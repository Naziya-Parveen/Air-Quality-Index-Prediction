{
  "nbformat": 4,
  "nbformat_minor": 0,
  "metadata": {
    "colab": {
      "name": "DataCleaningAQI.ipynb",
      "provenance": [],
      "collapsed_sections": []
    },
    "kernelspec": {
      "name": "python3",
      "display_name": "Python 3"
    }
  },
  "cells": [
    {
      "cell_type": "markdown",
      "metadata": {
        "id": "g4nfkNiJpUgZ",
        "colab_type": "text"
      },
      "source": [
        "# Data Cleaning"
      ]
    },
    {
      "cell_type": "code",
      "metadata": {
        "id": "OzCYwv25AuLL",
        "colab_type": "code",
        "colab": {}
      },
      "source": [
        "import matplotlib.pyplot as plt\n",
        "import pandas as pd\n",
        "import numpy as np\n",
        "import seaborn as sns\n",
        "import warnings\n",
        "warnings.filterwarnings('ignore')\n",
        "%matplotlib inline"
      ],
      "execution_count": null,
      "outputs": []
    },
    {
      "cell_type": "code",
      "metadata": {
        "id": "UQrYo_lnJlW1",
        "colab_type": "code",
        "colab": {
          "base_uri": "https://localhost:8080/",
          "height": 35
        },
        "outputId": "93521b70-8b04-441e-dc8e-122ee74e11ad"
      },
      "source": [
        "from google.colab import drive\n",
        "drive.mount('/content/drive')"
      ],
      "execution_count": null,
      "outputs": [
        {
          "output_type": "stream",
          "text": [
            "Drive already mounted at /content/drive; to attempt to forcibly remount, call drive.mount(\"/content/drive\", force_remount=True).\n"
          ],
          "name": "stdout"
        }
      ]
    },
    {
      "cell_type": "code",
      "metadata": {
        "id": "CK2DCXfRIPQX",
        "colab_type": "code",
        "colab": {}
      },
      "source": [
        "df = pd.read_csv('/content/drive/My Drive/data.csv' , encoding='mac_roman')"
      ],
      "execution_count": null,
      "outputs": []
    },
    {
      "cell_type": "code",
      "metadata": {
        "id": "zmXjGldn_zgW",
        "colab_type": "code",
        "colab": {
          "base_uri": "https://localhost:8080/",
          "height": 206
        },
        "outputId": "f8624039-d18d-4f60-9d43-de688312fbaa"
      },
      "source": [
        "df.head()"
      ],
      "execution_count": null,
      "outputs": [
        {
          "output_type": "execute_result",
          "data": {
            "text/html": [
              "<div>\n",
              "<style scoped>\n",
              "    .dataframe tbody tr th:only-of-type {\n",
              "        vertical-align: middle;\n",
              "    }\n",
              "\n",
              "    .dataframe tbody tr th {\n",
              "        vertical-align: top;\n",
              "    }\n",
              "\n",
              "    .dataframe thead th {\n",
              "        text-align: right;\n",
              "    }\n",
              "</style>\n",
              "<table border=\"1\" class=\"dataframe\">\n",
              "  <thead>\n",
              "    <tr style=\"text-align: right;\">\n",
              "      <th></th>\n",
              "      <th>stn_code</th>\n",
              "      <th>sampling_date</th>\n",
              "      <th>state</th>\n",
              "      <th>location</th>\n",
              "      <th>agency</th>\n",
              "      <th>type</th>\n",
              "      <th>so2</th>\n",
              "      <th>no2</th>\n",
              "      <th>rspm</th>\n",
              "      <th>spm</th>\n",
              "      <th>location_monitoring_station</th>\n",
              "      <th>pm2_5</th>\n",
              "      <th>date</th>\n",
              "    </tr>\n",
              "  </thead>\n",
              "  <tbody>\n",
              "    <tr>\n",
              "      <th>0</th>\n",
              "      <td>150</td>\n",
              "      <td>February - M021990</td>\n",
              "      <td>Andhra Pradesh</td>\n",
              "      <td>Hyderabad</td>\n",
              "      <td>NaN</td>\n",
              "      <td>Residential, Rural and other Areas</td>\n",
              "      <td>4.8</td>\n",
              "      <td>17.4</td>\n",
              "      <td>NaN</td>\n",
              "      <td>NaN</td>\n",
              "      <td>NaN</td>\n",
              "      <td>NaN</td>\n",
              "      <td>1990-02-01</td>\n",
              "    </tr>\n",
              "    <tr>\n",
              "      <th>1</th>\n",
              "      <td>151</td>\n",
              "      <td>February - M021990</td>\n",
              "      <td>Andhra Pradesh</td>\n",
              "      <td>Hyderabad</td>\n",
              "      <td>NaN</td>\n",
              "      <td>Industrial Area</td>\n",
              "      <td>3.1</td>\n",
              "      <td>7.0</td>\n",
              "      <td>NaN</td>\n",
              "      <td>NaN</td>\n",
              "      <td>NaN</td>\n",
              "      <td>NaN</td>\n",
              "      <td>1990-02-01</td>\n",
              "    </tr>\n",
              "    <tr>\n",
              "      <th>2</th>\n",
              "      <td>152</td>\n",
              "      <td>February - M021990</td>\n",
              "      <td>Andhra Pradesh</td>\n",
              "      <td>Hyderabad</td>\n",
              "      <td>NaN</td>\n",
              "      <td>Residential, Rural and other Areas</td>\n",
              "      <td>6.2</td>\n",
              "      <td>28.5</td>\n",
              "      <td>NaN</td>\n",
              "      <td>NaN</td>\n",
              "      <td>NaN</td>\n",
              "      <td>NaN</td>\n",
              "      <td>1990-02-01</td>\n",
              "    </tr>\n",
              "    <tr>\n",
              "      <th>3</th>\n",
              "      <td>150</td>\n",
              "      <td>March - M031990</td>\n",
              "      <td>Andhra Pradesh</td>\n",
              "      <td>Hyderabad</td>\n",
              "      <td>NaN</td>\n",
              "      <td>Residential, Rural and other Areas</td>\n",
              "      <td>6.3</td>\n",
              "      <td>14.7</td>\n",
              "      <td>NaN</td>\n",
              "      <td>NaN</td>\n",
              "      <td>NaN</td>\n",
              "      <td>NaN</td>\n",
              "      <td>1990-03-01</td>\n",
              "    </tr>\n",
              "    <tr>\n",
              "      <th>4</th>\n",
              "      <td>151</td>\n",
              "      <td>March - M031990</td>\n",
              "      <td>Andhra Pradesh</td>\n",
              "      <td>Hyderabad</td>\n",
              "      <td>NaN</td>\n",
              "      <td>Industrial Area</td>\n",
              "      <td>4.7</td>\n",
              "      <td>7.5</td>\n",
              "      <td>NaN</td>\n",
              "      <td>NaN</td>\n",
              "      <td>NaN</td>\n",
              "      <td>NaN</td>\n",
              "      <td>1990-03-01</td>\n",
              "    </tr>\n",
              "  </tbody>\n",
              "</table>\n",
              "</div>"
            ],
            "text/plain": [
              "  stn_code       sampling_date  ... pm2_5        date\n",
              "0      150  February - M021990  ...   NaN  1990-02-01\n",
              "1      151  February - M021990  ...   NaN  1990-02-01\n",
              "2      152  February - M021990  ...   NaN  1990-02-01\n",
              "3      150     March - M031990  ...   NaN  1990-03-01\n",
              "4      151     March - M031990  ...   NaN  1990-03-01\n",
              "\n",
              "[5 rows x 13 columns]"
            ]
          },
          "metadata": {
            "tags": []
          },
          "execution_count": 126
        }
      ]
    },
    {
      "cell_type": "code",
      "metadata": {
        "id": "tGrhQQ9bAQly",
        "colab_type": "code",
        "colab": {
          "base_uri": "https://localhost:8080/",
          "height": 380
        },
        "outputId": "81e4ef52-69b2-4b61-e790-374a9c7ec612"
      },
      "source": [
        "df.info()\n",
        "\n"
      ],
      "execution_count": null,
      "outputs": [
        {
          "output_type": "stream",
          "text": [
            "<class 'pandas.core.frame.DataFrame'>\n",
            "RangeIndex: 435742 entries, 0 to 435741\n",
            "Data columns (total 13 columns):\n",
            " #   Column                       Non-Null Count   Dtype  \n",
            "---  ------                       --------------   -----  \n",
            " 0   stn_code                     291665 non-null  object \n",
            " 1   sampling_date                435739 non-null  object \n",
            " 2   state                        435742 non-null  object \n",
            " 3   location                     435739 non-null  object \n",
            " 4   agency                       286261 non-null  object \n",
            " 5   type                         430349 non-null  object \n",
            " 6   so2                          401096 non-null  float64\n",
            " 7   no2                          419509 non-null  float64\n",
            " 8   rspm                         395520 non-null  float64\n",
            " 9   spm                          198355 non-null  float64\n",
            " 10  location_monitoring_station  408251 non-null  object \n",
            " 11  pm2_5                        9314 non-null    float64\n",
            " 12  date                         435735 non-null  object \n",
            "dtypes: float64(5), object(8)\n",
            "memory usage: 43.2+ MB\n"
          ],
          "name": "stdout"
        }
      ]
    },
    {
      "cell_type": "code",
      "metadata": {
        "id": "yUcMSQU5Ax-C",
        "colab_type": "code",
        "colab": {
          "base_uri": "https://localhost:8080/",
          "height": 457
        },
        "outputId": "54102c00-4f2c-4d20-8559-93102f08eea9"
      },
      "source": [
        "missing_ratio = np.round(df.isna().sum()/len(df)*100,2)\n",
        "missing_ratio = pd.DataFrame(missing_ratio , columns=['Missing_Ratio'])\n",
        "missing_ratio.sort_values('Missing_Ratio',ascending=False)\n",
        "\n",
        "#There are a lot of Missing Values in the data of column pm2_5 as missing ratio is very high"
      ],
      "execution_count": null,
      "outputs": [
        {
          "output_type": "execute_result",
          "data": {
            "text/html": [
              "<div>\n",
              "<style scoped>\n",
              "    .dataframe tbody tr th:only-of-type {\n",
              "        vertical-align: middle;\n",
              "    }\n",
              "\n",
              "    .dataframe tbody tr th {\n",
              "        vertical-align: top;\n",
              "    }\n",
              "\n",
              "    .dataframe thead th {\n",
              "        text-align: right;\n",
              "    }\n",
              "</style>\n",
              "<table border=\"1\" class=\"dataframe\">\n",
              "  <thead>\n",
              "    <tr style=\"text-align: right;\">\n",
              "      <th></th>\n",
              "      <th>Missing_Ratio</th>\n",
              "    </tr>\n",
              "  </thead>\n",
              "  <tbody>\n",
              "    <tr>\n",
              "      <th>pm2_5</th>\n",
              "      <td>97.86</td>\n",
              "    </tr>\n",
              "    <tr>\n",
              "      <th>spm</th>\n",
              "      <td>54.48</td>\n",
              "    </tr>\n",
              "    <tr>\n",
              "      <th>agency</th>\n",
              "      <td>34.30</td>\n",
              "    </tr>\n",
              "    <tr>\n",
              "      <th>stn_code</th>\n",
              "      <td>33.06</td>\n",
              "    </tr>\n",
              "    <tr>\n",
              "      <th>rspm</th>\n",
              "      <td>9.23</td>\n",
              "    </tr>\n",
              "    <tr>\n",
              "      <th>so2</th>\n",
              "      <td>7.95</td>\n",
              "    </tr>\n",
              "    <tr>\n",
              "      <th>location_monitoring_station</th>\n",
              "      <td>6.31</td>\n",
              "    </tr>\n",
              "    <tr>\n",
              "      <th>no2</th>\n",
              "      <td>3.73</td>\n",
              "    </tr>\n",
              "    <tr>\n",
              "      <th>type</th>\n",
              "      <td>1.24</td>\n",
              "    </tr>\n",
              "    <tr>\n",
              "      <th>sampling_date</th>\n",
              "      <td>0.00</td>\n",
              "    </tr>\n",
              "    <tr>\n",
              "      <th>state</th>\n",
              "      <td>0.00</td>\n",
              "    </tr>\n",
              "    <tr>\n",
              "      <th>location</th>\n",
              "      <td>0.00</td>\n",
              "    </tr>\n",
              "    <tr>\n",
              "      <th>date</th>\n",
              "      <td>0.00</td>\n",
              "    </tr>\n",
              "  </tbody>\n",
              "</table>\n",
              "</div>"
            ],
            "text/plain": [
              "                             Missing_Ratio\n",
              "pm2_5                                97.86\n",
              "spm                                  54.48\n",
              "agency                               34.30\n",
              "stn_code                             33.06\n",
              "rspm                                  9.23\n",
              "so2                                   7.95\n",
              "location_monitoring_station           6.31\n",
              "no2                                   3.73\n",
              "type                                  1.24\n",
              "sampling_date                         0.00\n",
              "state                                 0.00\n",
              "location                              0.00\n",
              "date                                  0.00"
            ]
          },
          "metadata": {
            "tags": []
          },
          "execution_count": 128
        }
      ]
    },
    {
      "cell_type": "code",
      "metadata": {
        "id": "lH3mWB13GwgH",
        "colab_type": "code",
        "colab": {}
      },
      "source": [
        "df.drop(columns = 'pm2_5', inplace=True)"
      ],
      "execution_count": null,
      "outputs": []
    },
    {
      "cell_type": "code",
      "metadata": {
        "id": "So4ETRHhN3xo",
        "colab_type": "code",
        "colab": {
          "base_uri": "https://localhost:8080/",
          "height": 235
        },
        "outputId": "0faa72dc-e6e4-4f08-ed03-18fb8ff302f8"
      },
      "source": [
        "list(df.columns)"
      ],
      "execution_count": null,
      "outputs": [
        {
          "output_type": "execute_result",
          "data": {
            "text/plain": [
              "['stn_code',\n",
              " 'sampling_date',\n",
              " 'state',\n",
              " 'location',\n",
              " 'agency',\n",
              " 'type',\n",
              " 'so2',\n",
              " 'no2',\n",
              " 'rspm',\n",
              " 'spm',\n",
              " 'location_monitoring_station',\n",
              " 'date']"
            ]
          },
          "metadata": {
            "tags": []
          },
          "execution_count": 130
        }
      ]
    },
    {
      "cell_type": "code",
      "metadata": {
        "id": "D6fDjvYgQwof",
        "colab_type": "code",
        "colab": {
          "base_uri": "https://localhost:8080/",
          "height": 362
        },
        "outputId": "49ee64d5-cf5e-4d63-a280-c9bcc7f65474"
      },
      "source": [
        "df.info()"
      ],
      "execution_count": null,
      "outputs": [
        {
          "output_type": "stream",
          "text": [
            "<class 'pandas.core.frame.DataFrame'>\n",
            "RangeIndex: 435742 entries, 0 to 435741\n",
            "Data columns (total 12 columns):\n",
            " #   Column                       Non-Null Count   Dtype  \n",
            "---  ------                       --------------   -----  \n",
            " 0   stn_code                     291665 non-null  object \n",
            " 1   sampling_date                435739 non-null  object \n",
            " 2   state                        435742 non-null  object \n",
            " 3   location                     435739 non-null  object \n",
            " 4   agency                       286261 non-null  object \n",
            " 5   type                         430349 non-null  object \n",
            " 6   so2                          401096 non-null  float64\n",
            " 7   no2                          419509 non-null  float64\n",
            " 8   rspm                         395520 non-null  float64\n",
            " 9   spm                          198355 non-null  float64\n",
            " 10  location_monitoring_station  408251 non-null  object \n",
            " 11  date                         435735 non-null  object \n",
            "dtypes: float64(4), object(8)\n",
            "memory usage: 39.9+ MB\n"
          ],
          "name": "stdout"
        }
      ]
    },
    {
      "cell_type": "code",
      "metadata": {
        "id": "XpjUAOJZQw5W",
        "colab_type": "code",
        "colab": {}
      },
      "source": [
        "cat_cols = list(df.select_dtypes(include=['object']).columns)\n",
        "num_cols = list(df.select_dtypes(exclude=['object']).columns)"
      ],
      "execution_count": null,
      "outputs": []
    },
    {
      "cell_type": "code",
      "metadata": {
        "id": "j41M8V1cRL2e",
        "colab_type": "code",
        "colab": {
          "base_uri": "https://localhost:8080/",
          "height": 90
        },
        "outputId": "2509abc2-7a27-4f8a-9280-16f146044150"
      },
      "source": [
        "print('\\nNumerical Columns : ' , num_cols)\n",
        "print('\\nCategorical Columns : ' , cat_cols)"
      ],
      "execution_count": null,
      "outputs": [
        {
          "output_type": "stream",
          "text": [
            "\n",
            "Numerical Columns :  ['so2', 'no2', 'rspm', 'spm']\n",
            "\n",
            "Categorical Columns :  ['stn_code', 'sampling_date', 'state', 'location', 'agency', 'type', 'location_monitoring_station', 'date']\n"
          ],
          "name": "stdout"
        }
      ]
    },
    {
      "cell_type": "code",
      "metadata": {
        "id": "yJ4ho58GUQek",
        "colab_type": "code",
        "colab": {}
      },
      "source": [
        "df['date'] = pd.to_datetime(df['date'])"
      ],
      "execution_count": null,
      "outputs": []
    },
    {
      "cell_type": "code",
      "metadata": {
        "id": "0V3OMmTwUQuY",
        "colab_type": "code",
        "colab": {}
      },
      "source": [
        "df = df[df['date'].isna()==False]"
      ],
      "execution_count": null,
      "outputs": []
    },
    {
      "cell_type": "code",
      "metadata": {
        "id": "AsghzJDpZNXQ",
        "colab_type": "code",
        "colab": {
          "base_uri": "https://localhost:8080/",
          "height": 35
        },
        "outputId": "6bd3b33a-93db-4be9-cc23-6da8d5697fb5"
      },
      "source": [
        "print('The number of missing values are : ',df['type'].isna().sum())"
      ],
      "execution_count": null,
      "outputs": [
        {
          "output_type": "stream",
          "text": [
            "The number of missing values are :  5390\n"
          ],
          "name": "stdout"
        }
      ]
    },
    {
      "cell_type": "code",
      "metadata": {
        "id": "yMAUaVGqblie",
        "colab_type": "code",
        "colab": {}
      },
      "source": [
        "df['type'] = df['type'].fillna('NA')"
      ],
      "execution_count": null,
      "outputs": []
    },
    {
      "cell_type": "code",
      "metadata": {
        "id": "Ax1Cwk6Dbqiv",
        "colab_type": "code",
        "colab": {
          "base_uri": "https://localhost:8080/",
          "height": 235
        },
        "outputId": "b176fef4-8e17-4979-ee01-9e74045bb3df"
      },
      "source": [
        "df['type'].value_counts()"
      ],
      "execution_count": null,
      "outputs": [
        {
          "output_type": "execute_result",
          "data": {
            "text/plain": [
              "Residential, Rural and other Areas    179013\n",
              "Industrial Area                        96089\n",
              "Residential and others                 86791\n",
              "Industrial Areas                       51747\n",
              "Sensitive Area                          8979\n",
              "Sensitive Areas                         5536\n",
              "NA                                      5390\n",
              "RIRUO                                   1304\n",
              "Sensitive                                495\n",
              "Industrial                               233\n",
              "Residential                              158\n",
              "Name: type, dtype: int64"
            ]
          },
          "metadata": {
            "tags": []
          },
          "execution_count": 138
        }
      ]
    },
    {
      "cell_type": "code",
      "metadata": {
        "id": "bf3Jd0plgaID",
        "colab_type": "code",
        "colab": {
          "base_uri": "https://localhost:8080/",
          "height": 35
        },
        "outputId": "bf6c8edb-831b-4ccc-fee5-136ddff40d52"
      },
      "source": [
        "print('The number of missing values are : ',df['agency'].isna().sum()) #missing columns in the agency "
      ],
      "execution_count": null,
      "outputs": [
        {
          "output_type": "stream",
          "text": [
            "The number of missing values are :  149478\n"
          ],
          "name": "stdout"
        }
      ]
    },
    {
      "cell_type": "code",
      "metadata": {
        "id": "LiNFSNaFnArA",
        "colab_type": "code",
        "colab": {}
      },
      "source": [
        "df['agency'].fillna('NA',inplace=True)"
      ],
      "execution_count": null,
      "outputs": []
    },
    {
      "cell_type": "code",
      "metadata": {
        "id": "SlcpHL9hoC7i",
        "colab_type": "code",
        "colab": {
          "base_uri": "https://localhost:8080/",
          "height": 35
        },
        "outputId": "917ba715-1dcd-4e05-fb60-c1136010d011"
      },
      "source": [
        "print('The number of missing values are : ',df['location_monitoring_station'].isna().sum())"
      ],
      "execution_count": null,
      "outputs": [
        {
          "output_type": "stream",
          "text": [
            "The number of missing values are :  27488\n"
          ],
          "name": "stdout"
        }
      ]
    },
    {
      "cell_type": "code",
      "metadata": {
        "id": "ad3pWttqaHkf",
        "colab_type": "code",
        "colab": {}
      },
      "source": [
        "df['location_monitoring_station'].fillna('NA',inplace=True)"
      ],
      "execution_count": null,
      "outputs": []
    },
    {
      "cell_type": "code",
      "metadata": {
        "id": "uWALOPXuaPfQ",
        "colab_type": "code",
        "colab": {
          "base_uri": "https://localhost:8080/",
          "height": 53
        },
        "outputId": "835e75a4-68d0-458f-a69f-d3343b87024e"
      },
      "source": [
        "print('The number of missing values are : ',df['location'].isna().sum())\n",
        "print('The number of missing values are : ',df['state'].isna().sum())"
      ],
      "execution_count": null,
      "outputs": [
        {
          "output_type": "stream",
          "text": [
            "The number of missing values are :  0\n",
            "The number of missing values are :  0\n"
          ],
          "name": "stdout"
        }
      ]
    },
    {
      "cell_type": "markdown",
      "metadata": {
        "id": "rivU_H0VaXzE",
        "colab_type": "text"
      },
      "source": [
        "cleaning of all the categorical columns is done."
      ]
    },
    {
      "cell_type": "markdown",
      "metadata": {
        "id": "YT9oYzjLah9I",
        "colab_type": "text"
      },
      "source": [
        "Numericals columns handling"
      ]
    },
    {
      "cell_type": "code",
      "metadata": {
        "id": "IjXdX1kramVT",
        "colab_type": "code",
        "colab": {
          "base_uri": "https://localhost:8080/",
          "height": 35
        },
        "outputId": "30486272-f294-4f8c-934d-1345dfaf484e"
      },
      "source": [
        "num_cols"
      ],
      "execution_count": null,
      "outputs": [
        {
          "output_type": "execute_result",
          "data": {
            "text/plain": [
              "['so2', 'no2', 'rspm', 'spm']"
            ]
          },
          "metadata": {
            "tags": []
          },
          "execution_count": 144
        }
      ]
    },
    {
      "cell_type": "code",
      "metadata": {
        "id": "j_7eTVzgarmb",
        "colab_type": "code",
        "colab": {
          "base_uri": "https://localhost:8080/",
          "height": 181
        },
        "outputId": "8140df7d-eed8-464b-ca84-d2ce9b81ace1"
      },
      "source": [
        "df['so2'].describe()"
      ],
      "execution_count": null,
      "outputs": [
        {
          "output_type": "execute_result",
          "data": {
            "text/plain": [
              "count    401092.000000\n",
              "mean         10.829428\n",
              "std          11.177239\n",
              "min           0.000000\n",
              "25%           5.000000\n",
              "50%           8.000000\n",
              "75%          13.700000\n",
              "max         909.000000\n",
              "Name: so2, dtype: float64"
            ]
          },
          "metadata": {
            "tags": []
          },
          "execution_count": 145
        }
      ]
    },
    {
      "cell_type": "markdown",
      "metadata": {
        "id": "RLe5HkRFbRxI",
        "colab_type": "text"
      },
      "source": [
        "The above information shows that 75% of the values are within the value 13.7 and the maximum value is 909.0\n",
        "This means that there are outliers"
      ]
    },
    {
      "cell_type": "code",
      "metadata": {
        "id": "IOZDsrOQa449",
        "colab_type": "code",
        "colab": {
          "base_uri": "https://localhost:8080/",
          "height": 315
        },
        "outputId": "35974273-1e4c-4d1c-b907-d877760c53d6"
      },
      "source": [
        "print('Distribution of SO2')\n",
        "fig,ax=plt.subplots(1,2,figsize=(13,4))\n",
        "sns.distplot(df['so2'].dropna() , ax=ax[0])\n",
        "sns.boxplot(df['so2'].dropna() , ax=ax[1])\n",
        "\n",
        "so2_skew = df['so2'].skew()\n",
        "plt.show()\n",
        "print('Skewness = ',so2_skew)"
      ],
      "execution_count": null,
      "outputs": [
        {
          "output_type": "stream",
          "text": [
            "Distribution of SO2\n"
          ],
          "name": "stdout"
        },
        {
          "output_type": "display_data",
          "data": {
            "image/png": "[encoded data removed]",
            "text/plain": [
              "<Figure size 936x288 with 2 Axes>"
            ]
          },
          "metadata": {
            "tags": [],
            "needs_background": "light"
          }
        },
        {
          "output_type": "stream",
          "text": [
            "Skewness =  8.521026971966139\n"
          ],
          "name": "stdout"
        }
      ]
    },
    {
      "cell_type": "markdown",
      "metadata": {
        "id": "iZ8tdXOcbhEN",
        "colab_type": "text"
      },
      "source": [
        "the box plot shows that there are significant amount of outliers.\n",
        "\n",
        "distribution plot shows that 'so2' values are significantly Right Skewed(Positively Skewed)"
      ]
    },
    {
      "cell_type": "code",
      "metadata": {
        "id": "6yStQ-srbiJS",
        "colab_type": "code",
        "colab": {}
      },
      "source": [
        "#Removing the outliers"
      ],
      "execution_count": null,
      "outputs": []
    },
    {
      "cell_type": "markdown",
      "metadata": {
        "id": "6shmvR9qbz_k",
        "colab_type": "text"
      },
      "source": [
        "Since we saw that 75% of the values lie under 13.7\n",
        "we can calculate the upper limit using IQR(Inter Quartile Range) and\n",
        "consider values outside upper limit as outliers and remove them"
      ]
    },
    {
      "cell_type": "code",
      "metadata": {
        "id": "05d0RIntb2FO",
        "colab_type": "code",
        "colab": {}
      },
      "source": [
        "Q1=df['so2'].quantile(0.25)\n",
        "Q3=df['so2'].quantile(0.75)\n",
        "IQR=Q3-Q1\n",
        "df=df[~((df['so2']<(Q1-1.5*IQR))|(df['so2']>(Q3+1.5*IQR)))]"
      ],
      "execution_count": null,
      "outputs": []
    },
    {
      "cell_type": "code",
      "metadata": {
        "id": "LFOqQYiOcBi6",
        "colab_type": "code",
        "colab": {
          "base_uri": "https://localhost:8080/",
          "height": 315
        },
        "outputId": "22038cd5-5399-446b-dcad-ab6d14a5fdc5"
      },
      "source": [
        "print('Distribution of SO2')\n",
        "sns.distplot(df['so2'].dropna())\n",
        "\n",
        "so2_skew = df['so2'].skew()\n",
        "plt.show()\n",
        "print('Skewness = ',so2_skew)"
      ],
      "execution_count": null,
      "outputs": [
        {
          "output_type": "stream",
          "text": [
            "Distribution of SO2\n"
          ],
          "name": "stdout"
        },
        {
          "output_type": "display_data",
          "data": {
            "image/png": "[encoded data removed]",
            "text/plain": [
              "<Figure size 432x288 with 1 Axes>"
            ]
          },
          "metadata": {
            "tags": [],
            "needs_background": "light"
          }
        },
        {
          "output_type": "stream",
          "text": [
            "Skewness =  0.8881595669996004\n"
          ],
          "name": "stdout"
        }
      ]
    },
    {
      "cell_type": "code",
      "metadata": {
        "id": "zTecuL6YcBm9",
        "colab_type": "code",
        "colab": {
          "base_uri": "https://localhost:8080/",
          "height": 35
        },
        "outputId": "2b231ddb-9414-4669-d103-07edc1994ede"
      },
      "source": [
        "print('The number of missing values in SO2 are : ' , df['so2'].isna().sum())"
      ],
      "execution_count": null,
      "outputs": [
        {
          "output_type": "stream",
          "text": [
            "The number of missing values in SO2 are :  34643\n"
          ],
          "name": "stdout"
        }
      ]
    },
    {
      "cell_type": "markdown",
      "metadata": {
        "id": "dRujBa_kOPXk",
        "colab_type": "text"
      },
      "source": [
        "**Kernel Density Estimate(KDE) Plot Visualization is used for visualizing the Probability Density**"
      ]
    },
    {
      "cell_type": "code",
      "metadata": {
        "id": "bUxORLSZcYCL",
        "colab_type": "code",
        "colab": {
          "base_uri": "https://localhost:8080/",
          "height": 283
        },
        "outputId": "ffb825fd-8310-4ca4-c91e-60d8361b65df"
      },
      "source": [
        "print('Distribution of SO2')\n",
        "sns.kdeplot(df['so2'].dropna())\n",
        "plt.axvline(df['so2'].mean(), color='r')\n",
        "plt.axvline(df['so2'].median(), color='g')\n",
        "\n",
        "plt.legend(['So2','Mean','Median'])\n",
        "plt.show()"
      ],
      "execution_count": null,
      "outputs": [
        {
          "output_type": "stream",
          "text": [
            "Distribution of SO2\n"
          ],
          "name": "stdout"
        },
        {
          "output_type": "display_data",
          "data": {
            "image/png": "[encoded data removed]",
            "text/plain": [
              "<Figure size 432x288 with 1 Axes>"
            ]
          },
          "metadata": {
            "tags": [],
            "needs_background": "light"
          }
        }
      ]
    },
    {
      "cell_type": "code",
      "metadata": {
        "id": "xGsZOls2c0Va",
        "colab_type": "code",
        "colab": {}
      },
      "source": [
        "df1= df.copy()\n",
        "df2=df.copy()"
      ],
      "execution_count": null,
      "outputs": []
    },
    {
      "cell_type": "markdown",
      "metadata": {
        "id": "WfT-LEewdNGS",
        "colab_type": "text"
      },
      "source": [
        "Treating the missing values \n",
        "1. Mean imputation\n",
        "2. Forwards filling"
      ]
    },
    {
      "cell_type": "code",
      "metadata": {
        "id": "6xuETXA0dfjm",
        "colab_type": "code",
        "colab": {}
      },
      "source": [
        "df1['so2'] = df1['so2'].fillna(df1['so2'].mean())"
      ],
      "execution_count": null,
      "outputs": []
    },
    {
      "cell_type": "code",
      "metadata": {
        "id": "8SbrJiCXdjCV",
        "colab_type": "code",
        "colab": {}
      },
      "source": [
        "df1['so2'] = df1['so2'].fillna(method='ffill')"
      ],
      "execution_count": null,
      "outputs": []
    },
    {
      "cell_type": "code",
      "metadata": {
        "id": "9LIhEHTgdsb_",
        "colab_type": "code",
        "colab": {
          "base_uri": "https://localhost:8080/",
          "height": 299
        },
        "outputId": "0050739b-73b4-4238-fdb5-1081d149c75d"
      },
      "source": [
        "print('Distribution of SO2')\n",
        "\n",
        "fig,ax=plt.subplots(1,2,figsize=(13,4))\n",
        "\n",
        "sns.kdeplot(df1['so2'] , ax=ax[0])\n",
        "ax[0].axvline(df1['so2'].mean(), color='r' )\n",
        "ax[0].axvline(df1['so2'].median(), color='g')\n",
        "ax[0].set_title('Mean Imputation')  \n",
        "ax[0].legend(['So2','Mean','Median'])\n",
        "\n",
        "sns.kdeplot(df2['so2'] , ax=ax[1])\n",
        "ax[1].axvline(df2['so2'].mean(), color='r')\n",
        "ax[1].axvline(df2['so2'].median(), color='g')\n",
        "ax[1].set_title('Forward Fill')\n",
        "ax[1].legend(['So2','Mean','Median'])\n",
        "                    \n",
        "                    \n",
        "plt.show()"
      ],
      "execution_count": null,
      "outputs": [
        {
          "output_type": "stream",
          "text": [
            "Distribution of SO2\n"
          ],
          "name": "stdout"
        },
        {
          "output_type": "display_data",
          "data": {
            "image/png": "[encoded data removed]",
            "text/plain": [
              "<Figure size 936x288 with 2 Axes>"
            ]
          },
          "metadata": {
            "tags": [],
            "needs_background": "light"
          }
        }
      ]
    },
    {
      "cell_type": "markdown",
      "metadata": {
        "id": "IS2qUM5Odx2x",
        "colab_type": "text"
      },
      "source": [
        "plots show that filling the missing values with Forward Fill dosen't cause any variation on the data, so we can choose Forward Fill"
      ]
    },
    {
      "cell_type": "code",
      "metadata": {
        "id": "tDD3fHRddy5x",
        "colab_type": "code",
        "colab": {}
      },
      "source": [
        "df['so2'] = df['so2'].fillna(method='ffill')"
      ],
      "execution_count": null,
      "outputs": []
    },
    {
      "cell_type": "code",
      "metadata": {
        "id": "NGYDutVcd60s",
        "colab_type": "code",
        "colab": {
          "base_uri": "https://localhost:8080/",
          "height": 181
        },
        "outputId": "5bd39d40-b8c5-4562-a601-3a015d690297"
      },
      "source": [
        "# for no2 column\n",
        "df['no2'].describe()"
      ],
      "execution_count": null,
      "outputs": [
        {
          "output_type": "execute_result",
          "data": {
            "text/plain": [
              "count    396375.000000\n",
              "mean         24.734928\n",
              "std          17.113930\n",
              "min           0.000000\n",
              "25%          13.800000\n",
              "50%          21.000000\n",
              "75%          31.000000\n",
              "max         876.000000\n",
              "Name: no2, dtype: float64"
            ]
          },
          "metadata": {
            "tags": []
          },
          "execution_count": 93
        }
      ]
    },
    {
      "cell_type": "markdown",
      "metadata": {
        "id": "FYYRyOnOeCah",
        "colab_type": "text"
      },
      "source": [
        "75% of the values are within the value 30.8 and the maximum value is 876.0\n",
        "This means that there are outliers"
      ]
    },
    {
      "cell_type": "code",
      "metadata": {
        "id": "W0Wx6Kh8eDbE",
        "colab_type": "code",
        "colab": {
          "base_uri": "https://localhost:8080/",
          "height": 315
        },
        "outputId": "91023886-380c-415d-9a65-7d8f46488f3c"
      },
      "source": [
        "print('Distribution of NO2')\n",
        "fig,ax=plt.subplots(1,2,figsize=(13,4))\n",
        "sns.distplot(df['no2'].dropna() , ax=ax[0])\n",
        "sns.boxplot(df['no2'].dropna() , ax=ax[1])\n",
        "no2_skew = df['no2'].skew()\n",
        "plt.show()\n",
        "print('Skewness = ',no2_skew)"
      ],
      "execution_count": null,
      "outputs": [
        {
          "output_type": "stream",
          "text": [
            "Distribution of NO2\n"
          ],
          "name": "stdout"
        },
        {
          "output_type": "display_data",
          "data": {
            "image/png": "[encoded data removed]",
            "text/plain": [
              "<Figure size 936x288 with 2 Axes>"
            ]
          },
          "metadata": {
            "tags": [],
            "needs_background": "light"
          }
        },
        {
          "output_type": "stream",
          "text": [
            "Skewness =  3.5414717457036953\n"
          ],
          "name": "stdout"
        }
      ]
    },
    {
      "cell_type": "code",
      "metadata": {
        "id": "NEDO6DUeeK5_",
        "colab_type": "code",
        "colab": {}
      },
      "source": [
        "#removing outliers by calculating upper limit using IQR\n",
        "\n",
        "Q1=df['no2'].quantile(0.25)\n",
        "Q3=df['no2'].quantile(0.75)\n",
        "IQR=Q3-Q1\n",
        "df=df[~((df['no2']<(Q1-1.5*IQR))|(df['no2']>(Q3+1.5*IQR)))]"
      ],
      "execution_count": null,
      "outputs": []
    },
    {
      "cell_type": "code",
      "metadata": {
        "id": "kevsUzlkebXh",
        "colab_type": "code",
        "colab": {
          "base_uri": "https://localhost:8080/",
          "height": 315
        },
        "outputId": "cfd00720-85cd-440d-f325-46ec3b7c965d"
      },
      "source": [
        "print('Distribution of NO2')\n",
        "fig,ax=plt.subplots(1,2,figsize=(13,4))\n",
        "sns.distplot(df['no2'].dropna() , ax=ax[0])\n",
        "sns.boxplot(df['no2'].dropna() , ax=ax[1])\n",
        "no2_skew = df['no2'].skew()\n",
        "plt.show()\n",
        "print('Skewness = ',no2_skew)"
      ],
      "execution_count": null,
      "outputs": [
        {
          "output_type": "stream",
          "text": [
            "Distribution of NO2\n"
          ],
          "name": "stdout"
        },
        {
          "output_type": "display_data",
          "data": {
            "image/png": "[encoded data removed]",
            "text/plain": [
              "<Figure size 936x288 with 2 Axes>"
            ]
          },
          "metadata": {
            "tags": [],
            "needs_background": "light"
          }
        },
        {
          "output_type": "stream",
          "text": [
            "Skewness =  0.6614815004927441\n"
          ],
          "name": "stdout"
        }
      ]
    },
    {
      "cell_type": "code",
      "metadata": {
        "id": "R_v7ndbtepiD",
        "colab_type": "code",
        "colab": {
          "base_uri": "https://localhost:8080/",
          "height": 35
        },
        "outputId": "ae39b3b8-40c0-466a-a3bd-39f954515ef3"
      },
      "source": [
        "# Treating missing values\n",
        "\n",
        "\n",
        "\n",
        "print('The number of missing values in NO2 are : ' , df['no2'].isna().sum())"
      ],
      "execution_count": null,
      "outputs": [
        {
          "output_type": "stream",
          "text": [
            "The number of missing values in NO2 are :  16167\n"
          ],
          "name": "stdout"
        }
      ]
    },
    {
      "cell_type": "code",
      "metadata": {
        "id": "xOA30HNNewF5",
        "colab_type": "code",
        "colab": {
          "base_uri": "https://localhost:8080/",
          "height": 284
        },
        "outputId": "f7a8f004-f3f5-4618-e19c-e3dec3e81801"
      },
      "source": [
        "print('Distribution of NO2')\n",
        "sns.kdeplot(df['no2'])\n",
        "plt.axvline(df['no2'].mean(), color='r')\n",
        "plt.axvline(df['no2'].median(), color='g')\n",
        "plt.legend(['No2','Mean','Median'])\n",
        "plt.show()"
      ],
      "execution_count": null,
      "outputs": [
        {
          "output_type": "stream",
          "text": [
            "Distribution of NO2\n"
          ],
          "name": "stdout"
        },
        {
          "output_type": "display_data",
          "data": {
            "image/png": "[encoded data removed]",
            "text/plain": [
              "<Figure size 432x288 with 1 Axes>"
            ]
          },
          "metadata": {
            "tags": [],
            "needs_background": "light"
          }
        }
      ]
    },
    {
      "cell_type": "code",
      "metadata": {
        "id": "1nYSYxb9ewI-",
        "colab_type": "code",
        "colab": {}
      },
      "source": [
        "df1 = df.copy()\n",
        "df2 = df.copy()"
      ],
      "execution_count": null,
      "outputs": []
    },
    {
      "cell_type": "code",
      "metadata": {
        "id": "cMcWrG4ke6eO",
        "colab_type": "code",
        "colab": {}
      },
      "source": [
        "#Mean Imputation\n",
        "df1['no2'] = df1['no2'].fillna(df1['no2'].mean())\n",
        "#Forward Fill\n",
        "df2['no2'] = df2['no2'].fillna(method='ffill')"
      ],
      "execution_count": null,
      "outputs": []
    },
    {
      "cell_type": "code",
      "metadata": {
        "id": "_-edv-bze-rd",
        "colab_type": "code",
        "colab": {
          "base_uri": "https://localhost:8080/",
          "height": 299
        },
        "outputId": "db18117d-4c3e-44dc-bdb2-373b6dfadd02"
      },
      "source": [
        "print('Distribution of NO2')\n",
        "\n",
        "fig,ax=plt.subplots(1,2,figsize=(13,4))\n",
        "\n",
        "sns.kdeplot(df1['no2'] , ax=ax[0])\n",
        "ax[0].axvline(df1['no2'].mean(), color='r' )\n",
        "ax[0].axvline(df1['no2'].median(), color='g')\n",
        "ax[0].set_title('Mean Imputation')    \n",
        "ax[0].legend(['No2','Mean','Median'])\n",
        "\n",
        "sns.kdeplot(df2['no2'] , ax=ax[1])\n",
        "ax[1].axvline(df2['no2'].mean(), color='r')\n",
        "ax[1].axvline(df2['no2'].median(), color='g')\n",
        "ax[1].set_title('Forward Fill')\n",
        "ax[1].legend(['no2','Mean','Median'])\n",
        "                    \n",
        "                    \n",
        "plt.show()"
      ],
      "execution_count": null,
      "outputs": [
        {
          "output_type": "stream",
          "text": [
            "Distribution of NO2\n"
          ],
          "name": "stdout"
        },
        {
          "output_type": "display_data",
          "data": {
            "image/png": "[encoded data removed]",
            "text/plain": [
              "<Figure size 936x288 with 2 Axes>"
            ]
          },
          "metadata": {
            "tags": [],
            "needs_background": "light"
          }
        }
      ]
    },
    {
      "cell_type": "code",
      "metadata": {
        "id": "kJsFGfH4fF52",
        "colab_type": "code",
        "colab": {}
      },
      "source": [
        "# forward filling doesnot cause any variation in the data\n",
        "\n",
        "df['no2'] = df['no2'].fillna(method='ffill')\n",
        "\n"
      ],
      "execution_count": null,
      "outputs": []
    },
    {
      "cell_type": "code",
      "metadata": {
        "id": "qeZOfQGtfQOQ",
        "colab_type": "code",
        "colab": {
          "base_uri": "https://localhost:8080/",
          "height": 181
        },
        "outputId": "5a705844-f0bf-463e-f1ed-e120324c46e0"
      },
      "source": [
        "df['rspm'].describe()"
      ],
      "execution_count": null,
      "outputs": [
        {
          "output_type": "execute_result",
          "data": {
            "text/plain": [
              "count    361301.000000\n",
              "mean        104.466161\n",
              "std          71.131097\n",
              "min           0.000000\n",
              "25%          55.000000\n",
              "50%          87.000000\n",
              "75%         135.000000\n",
              "max        6307.033333\n",
              "Name: rspm, dtype: float64"
            ]
          },
          "metadata": {
            "tags": []
          },
          "execution_count": 103
        }
      ]
    },
    {
      "cell_type": "markdown",
      "metadata": {
        "id": "P38ZQX8ZfUpK",
        "colab_type": "text"
      },
      "source": [
        "The above information shows that 75% of the values are within the value 135.0 and the maximum value is 6307.03\n",
        "This means that there are outliers"
      ]
    },
    {
      "cell_type": "code",
      "metadata": {
        "id": "0CwhB8MdfWzW",
        "colab_type": "code",
        "colab": {
          "base_uri": "https://localhost:8080/",
          "height": 315
        },
        "outputId": "b4b4fc95-4a0a-4830-aa39-2f9ca175ec45"
      },
      "source": [
        "print('Distribution of RSPM')\n",
        "fig,ax=plt.subplots(1,2,figsize=(13,4))\n",
        "sns.distplot(df['rspm'].dropna() , ax=ax[0])\n",
        "sns.boxplot(df['rspm'].dropna() , ax=ax[1])\n",
        "plt.show()\n",
        "print('Skewness = ',df['rspm'].skew())"
      ],
      "execution_count": null,
      "outputs": [
        {
          "output_type": "stream",
          "text": [
            "Distribution of RSPM\n"
          ],
          "name": "stdout"
        },
        {
          "output_type": "display_data",
          "data": {
            "image/png": "[encoded data removed]",
            "text/plain": [
              "<Figure size 936x288 with 2 Axes>"
            ]
          },
          "metadata": {
            "tags": [],
            "needs_background": "light"
          }
        },
        {
          "output_type": "stream",
          "text": [
            "Skewness =  3.5635618320679323\n"
          ],
          "name": "stdout"
        }
      ]
    },
    {
      "cell_type": "code",
      "metadata": {
        "id": "eeCvNOE5ffd_",
        "colab_type": "code",
        "colab": {}
      },
      "source": [
        "Q1=df['rspm'].quantile(0.25)\n",
        "Q3=df['rspm'].quantile(0.75)\n",
        "IQR=Q3-Q1\n",
        "df=df[~((df['rspm']<(Q1-1.5*IQR))|(df['rspm']>(Q3+1.5*IQR)))]"
      ],
      "execution_count": null,
      "outputs": []
    },
    {
      "cell_type": "code",
      "metadata": {
        "id": "-BCuQxfmfjOq",
        "colab_type": "code",
        "colab": {
          "base_uri": "https://localhost:8080/",
          "height": 315
        },
        "outputId": "6f187aa3-0977-4b79-ee3e-109897644cc0"
      },
      "source": [
        "print('Distribution of RSPM')\n",
        "fig,ax=plt.subplots(1,2,figsize=(13,4))\n",
        "sns.distplot(df['rspm'].dropna() , ax=ax[0])\n",
        "sns.boxplot(df['rspm'].dropna() , ax=ax[1])\n",
        "plt.show()\n",
        "print('Skewness = ',df['rspm'].skew())"
      ],
      "execution_count": null,
      "outputs": [
        {
          "output_type": "stream",
          "text": [
            "Distribution of RSPM\n"
          ],
          "name": "stdout"
        },
        {
          "output_type": "display_data",
          "data": {
            "image/png": "[encoded data removed]",
            "text/plain": [
              "<Figure size 936x288 with 2 Axes>"
            ]
          },
          "metadata": {
            "tags": [],
            "needs_background": "light"
          }
        },
        {
          "output_type": "stream",
          "text": [
            "Skewness =  0.8297993158420551\n"
          ],
          "name": "stdout"
        }
      ]
    },
    {
      "cell_type": "code",
      "metadata": {
        "id": "WzGNdvDRfphD",
        "colab_type": "code",
        "colab": {
          "base_uri": "https://localhost:8080/",
          "height": 35
        },
        "outputId": "39a0a071-4da3-4562-c621-0a1d332eef47"
      },
      "source": [
        "print('The number of missing values in RSPM are : ' , df['rspm'].isna().sum())"
      ],
      "execution_count": null,
      "outputs": [
        {
          "output_type": "stream",
          "text": [
            "The number of missing values in RSPM are :  33626\n"
          ],
          "name": "stdout"
        }
      ]
    },
    {
      "cell_type": "code",
      "metadata": {
        "id": "yRQhjgTRftUW",
        "colab_type": "code",
        "colab": {}
      },
      "source": [
        "df1 = df.copy()\n",
        "df2 = df.copy()"
      ],
      "execution_count": null,
      "outputs": []
    },
    {
      "cell_type": "code",
      "metadata": {
        "id": "jHipoydWfwMY",
        "colab_type": "code",
        "colab": {}
      },
      "source": [
        "#Mean Imputation\n",
        "df1['rspm'] = df1['rspm'].fillna(df1['rspm'].mean())\n",
        "#Forward Fill\n",
        "df2['rspm'] = df2['rspm'].fillna(method='ffill')"
      ],
      "execution_count": null,
      "outputs": []
    },
    {
      "cell_type": "code",
      "metadata": {
        "id": "fQjBPSQFfzSj",
        "colab_type": "code",
        "colab": {
          "base_uri": "https://localhost:8080/",
          "height": 299
        },
        "outputId": "775d009d-b7fc-4b93-d65e-584fe7ae78f4"
      },
      "source": [
        "print('Distribution of RSPM')\n",
        "\n",
        "fig,ax=plt.subplots(1,2,figsize=(13,4))\n",
        "\n",
        "sns.kdeplot(df1['rspm'] , ax=ax[0])\n",
        "ax[0].axvline(df1['rspm'].mean(), color='r' )\n",
        "ax[0].axvline(df1['rspm'].median(), color='g')\n",
        "ax[0].set_title('Mean Imputation')    \n",
        "ax[0].legend(['rspm','Mean','Median'])\n",
        "\n",
        "sns.kdeplot(df2['rspm'] , ax=ax[1])\n",
        "ax[1].axvline(df2['rspm'].mean(), color='r')\n",
        "ax[1].axvline(df2['rspm'].median(), color='g')\n",
        "ax[1].set_title('Forward Fill')\n",
        "ax[1].legend(['rspm','Mean','Median'])\n",
        "                    \n",
        "                    \n",
        "plt.show()"
      ],
      "execution_count": null,
      "outputs": [
        {
          "output_type": "stream",
          "text": [
            "Distribution of RSPM\n"
          ],
          "name": "stdout"
        },
        {
          "output_type": "display_data",
          "data": {
            "image/png": "[encoded data removed]",
            "text/plain": [
              "<Figure size 936x288 with 2 Axes>"
            ]
          },
          "metadata": {
            "tags": [],
            "needs_background": "light"
          }
        }
      ]
    },
    {
      "cell_type": "code",
      "metadata": {
        "id": "USRAVFxPf2q1",
        "colab_type": "code",
        "colab": {}
      },
      "source": [
        "df['rspm'] = df['rspm'].fillna(method='ffill')"
      ],
      "execution_count": null,
      "outputs": []
    },
    {
      "cell_type": "code",
      "metadata": {
        "id": "0YAGbW2FwGOq",
        "colab_type": "code",
        "colab": {}
      },
      "source": [
        "df[\"pm2_5\"] = df[\"pm2_5\"].fillna(0)\n",
        "df[\"spm\"] = df[\"spm\"].fillna(0)"
      ],
      "execution_count": null,
      "outputs": []
    },
    {
      "cell_type": "code",
      "metadata": {
        "id": "Ahn1iy4VJMJi",
        "colab_type": "code",
        "colab": {
          "base_uri": "https://localhost:8080/",
          "height": 380
        },
        "outputId": "448c1856-6e97-4b8c-84e7-c7965319817e"
      },
      "source": [
        "df.info()"
      ],
      "execution_count": null,
      "outputs": [
        {
          "output_type": "stream",
          "text": [
            "<class 'pandas.core.frame.DataFrame'>\n",
            "Int64Index: 381558 entries, 0 to 435738\n",
            "Data columns (total 13 columns):\n",
            " #   Column                       Non-Null Count   Dtype         \n",
            "---  ------                       --------------   -----         \n",
            " 0   stn_code                     255014 non-null  object        \n",
            " 1   sampling_date                381558 non-null  object        \n",
            " 2   state                        381558 non-null  object        \n",
            " 3   location                     381558 non-null  object        \n",
            " 4   agency                       381558 non-null  object        \n",
            " 5   type                         381558 non-null  object        \n",
            " 6   so2                          381558 non-null  float64       \n",
            " 7   no2                          381558 non-null  float64       \n",
            " 8   rspm                         380654 non-null  float64       \n",
            " 9   spm                          381558 non-null  float64       \n",
            " 10  location_monitoring_station  381558 non-null  object        \n",
            " 11  pm2_5                        381558 non-null  float64       \n",
            " 12  date                         381558 non-null  datetime64[ns]\n",
            "dtypes: datetime64[ns](1), float64(5), object(7)\n",
            "memory usage: 40.8+ MB\n"
          ],
          "name": "stdout"
        }
      ]
    },
    {
      "cell_type": "code",
      "metadata": {
        "id": "JdPV1zkErwy_",
        "colab_type": "code",
        "colab": {
          "base_uri": "https://localhost:8080/",
          "height": 271
        },
        "outputId": "5bf0abed-111d-43f5-9574-94066913a15f"
      },
      "source": [
        "#df.to_csv ('CleanedDataset.csv', index = False, header=True)\n",
        "print(df)"
      ],
      "execution_count": null,
      "outputs": [
        {
          "output_type": "stream",
          "text": [
            "       stn_code       sampling_date  ... pm2_5       date\n",
            "0           150  February - M021990  ...   0.0 1990-02-01\n",
            "1           151  February - M021990  ...   0.0 1990-02-01\n",
            "2           152  February - M021990  ...   0.0 1990-02-01\n",
            "3           150     March - M031990  ...   0.0 1990-03-01\n",
            "4           151     March - M031990  ...   0.0 1990-03-01\n",
            "...         ...                 ...  ...   ...        ...\n",
            "435734     SAMP            15-12-15  ...   0.0 2015-12-15\n",
            "435735     SAMP            18-12-15  ...   0.0 2015-12-18\n",
            "435736     SAMP            21-12-15  ...   0.0 2015-12-21\n",
            "435737     SAMP            24-12-15  ...   0.0 2015-12-24\n",
            "435738     SAMP            29-12-15  ...   0.0 2015-12-29\n",
            "\n",
            "[381558 rows x 13 columns]\n"
          ],
          "name": "stdout"
        }
      ]
    }
  ]
}